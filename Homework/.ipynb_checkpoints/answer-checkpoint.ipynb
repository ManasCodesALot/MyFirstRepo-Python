{
 "cells": [
  {
   "cell_type": "code",
   "execution_count": 6,
   "id": "50ef78d0-b331-47d4-8bda-178e18379629",
   "metadata": {},
   "outputs": [
    {
     "name": "stdout",
     "output_type": "stream",
     "text": [
      "58\n"
     ]
    }
   ],
   "source": [
    "a=(12)\n",
    "b=(23)\n",
    "c=(23)\n",
    "print(a+b+c)\n",
    "\n"
   ]
  },
  {
   "cell_type": "code",
   "execution_count": 11,
   "id": "129934d2-4182-4fc5-a6fe-ddf64c9ed067",
   "metadata": {},
   "outputs": [
    {
     "name": "stdout",
     "output_type": "stream",
     "text": [
      "-99\n"
     ]
    }
   ],
   "source": [
    "\n",
    "a=(22)\n",
    "b=(44)\n",
    "c=(77)\n",
    "print(a-b-c)"
   ]
  },
  {
   "cell_type": "code",
   "execution_count": 14,
   "id": "9bd85f23-4069-4913-bce2-a51ea107ea38",
   "metadata": {},
   "outputs": [
    {
     "name": "stdout",
     "output_type": "stream",
     "text": [
      "552\n"
     ]
    }
   ],
   "source": [
    "a=(23)\n",
    "b=(24)\n",
    "print(a*b)"
   ]
  },
  {
   "cell_type": "code",
   "execution_count": 21,
   "id": "3c04fda1-16b7-48ca-9890-1a47cb74aac4",
   "metadata": {},
   "outputs": [
    {
     "name": "stdout",
     "output_type": "stream",
     "text": [
      "vadik , prakher\n"
     ]
    }
   ],
   "source": [
    "a=(\"vadik\")\n",
    "b=(\"prakher\")\n",
    "\n",
    "print(a ,\",\",b)"
   ]
  },
  {
   "cell_type": "code",
   "execution_count": null,
   "id": "22a62ac4-9dd1-41e3-903e-9bab033f72b6",
   "metadata": {},
   "outputs": [],
   "source": []
  },
  {
   "cell_type": "code",
   "execution_count": null,
   "id": "75bac56f-c130-4472-8544-fe05e9d95ea5",
   "metadata": {},
   "outputs": [],
   "source": []
  }
 ],
 "metadata": {
  "kernelspec": {
   "display_name": "Python 3 (ipykernel)",
   "language": "python",
   "name": "python3"
  },
  "language_info": {
   "codemirror_mode": {
    "name": "ipython",
    "version": 3
   },
   "file_extension": ".py",
   "mimetype": "text/x-python",
   "name": "python",
   "nbconvert_exporter": "python",
   "pygments_lexer": "ipython3",
   "version": "3.12.4"
  }
 },
 "nbformat": 4,
 "nbformat_minor": 5
}

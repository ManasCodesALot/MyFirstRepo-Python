{
 "cells": [
  {
   "cell_type": "code",
   "execution_count": null,
   "id": "33b704b3-b7c7-4fe6-ac9a-bb53f52617bd",
   "metadata": {},
   "outputs": [],
   "source": [
    "#add 12,23,23\n",
    "#subtract 22,44,77\n",
    "#multiply 23,34\n",
    "#print all friends name\n",
    "#Explain: compiler, interpreter, IDE, terminal\n"
   ]
  }
 ],
 "metadata": {
  "kernelspec": {
   "display_name": "Python 3 (ipykernel)",
   "language": "python",
   "name": "python3"
  },
  "language_info": {
   "codemirror_mode": {
    "name": "ipython",
    "version": 3
   },
   "file_extension": ".py",
   "mimetype": "text/x-python",
   "name": "python",
   "nbconvert_exporter": "python",
   "pygments_lexer": "ipython3",
   "version": "3.12.4"
  }
 },
 "nbformat": 4,
 "nbformat_minor": 5
}

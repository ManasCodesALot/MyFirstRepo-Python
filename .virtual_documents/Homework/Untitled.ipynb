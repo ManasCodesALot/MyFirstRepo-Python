a=(12)
b=(23)
c=(23)
print(a+b+c)





a=(22)
b=(44)
c=(77)
print(a-b-c)


a=(23)
b=(24)
print(a*b)


a=("vadik")
b=("prakher")

print(a ,",",b)







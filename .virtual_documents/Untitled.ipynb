


use print statement
use variables
store values in variables
assignmnt aassignmnt fldr min karna hin






















{
 "cells": [
  {
   "cell_type": "raw",
   "id": "847d4db1-d8e3-4fb3-ab42-b5e1b6cfb77b",
   "metadata": {},
   "source": []
  },
  {
   "cell_type": "code",
   "execution_count": null,
   "id": "bfbd4e8a-05a3-4ce3-ba05-3fdb178c484b",
   "metadata": {},
   "outputs": [],
   "source": [
    "use print statement\n",
    "use variables\n",
    "store values in variables\n",
    "assignmnt aassignmnt fldr min karna hin"
   ]
  },
  {
   "cell_type": "code",
   "execution_count": null,
   "id": "e85bf371-5344-48cb-af8e-6cad73b2c4a1",
   "metadata": {},
   "outputs": [],
   "source": []
  },
  {
   "cell_type": "code",
   "execution_count": null,
   "id": "71ae7941-af7b-424b-8ab2-f67ab6669343",
   "metadata": {},
   "outputs": [],
   "source": []
  },
  {
   "cell_type": "code",
   "execution_count": null,
   "id": "61d1ff2c-6157-4e10-a322-3b8ccc94d75f",
   "metadata": {},
   "outputs": [],
   "source": []
  },
  {
   "cell_type": "code",
   "execution_count": null,
   "id": "914fb4e8-275e-4a7b-84f7-3eb3164f8881",
   "metadata": {},
   "outputs": [],
   "source": []
  },
  {
   "cell_type": "code",
   "execution_count": null,
   "id": "90c5b570-61bd-452f-a3f2-78b39d2153dd",
   "metadata": {},
   "outputs": [],
   "source": []
  },
  {
   "cell_type": "code",
   "execution_count": null,
   "id": "b8b16eb0-6e39-4d56-a583-bb7922b3340d",
   "metadata": {},
   "outputs": [],
   "source": []
  },
  {
   "cell_type": "code",
   "execution_count": null,
   "id": "0ca9f403-ba69-4a74-ab85-433a164fb99f",
   "metadata": {},
   "outputs": [],
   "source": []
  }
 ],
 "metadata": {
  "kernelspec": {
   "display_name": "Python 3 (ipykernel)",
   "language": "python",
   "name": "python3"
  },
  "language_info": {
   "codemirror_mode": {
    "name": "ipython",
    "version": 3
   },
   "file_extension": ".py",
   "mimetype": "text/x-python",
   "name": "python",
   "nbconvert_exporter": "python",
   "pygments_lexer": "ipython3",
   "version": "3.12.4"
  }
 },
 "nbformat": 4,
 "nbformat_minor": 5
}
